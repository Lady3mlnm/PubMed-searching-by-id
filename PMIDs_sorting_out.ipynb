{
 "cells": [
  {
   "cell_type": "markdown",
   "metadata": {},
   "source": [
    "info: <br />\n",
    "https://pypi.org/project/pubmed-lookup/ <br />\n",
    "https://pypi.org/project/metapub/"
   ]
  },
  {
   "cell_type": "code",
   "execution_count": 2,
   "metadata": {},
   "outputs": [],
   "source": [
    "from pubmed_lookup import PubMedLookup, Publication\n",
    "import sys\n",
    "import re\n",
    "from time import time"
   ]
  },
  {
   "cell_type": "code",
   "execution_count": 160,
   "metadata": {},
   "outputs": [],
   "source": [
    "# List of words that will be searched in abstracts.\n",
    "search_words = ['longevity', 'lifespan', 'aging']\n",
    "\n",
    "# Maximum number of articles that will be processed.\n",
    "LIMIT = 50 #1_000_000\n",
    "\n",
    "# Maximum number of characters that you want to see in the 'abstract'-column\n",
    "# of the output file (paragraph breakdown in the abstract is ignored).\n",
    "CHARACTERS_IN_ABSTRACT = 1000\n",
    "\n",
    "# Address of the file with ids from PubMed\n",
    "# (the first line of the file will be ignored).\n",
    "FILE_IN = 'pmids.csv'\n",
    "\n",
    "# Address of the file to write down the results of filtering\n",
    "FILE_OUT = 'pmids-found.tsv'\n",
    "\n",
    "# Address of the file where the errors will be written.\n",
    "FILE_LOG = 'pmids-errors.log'\n",
    "\n",
    "# 'NCBI will contact user by email if excessive queries are detected'\n",
    "EMAIL = ''"
   ]
  },
  {
   "cell_type": "code",
   "execution_count": 161,
   "metadata": {},
   "outputs": [],
   "source": [
    "def get_publication_object_from_id(id_str):\n",
    "    \"\"\"\n",
    "    :param id: id of article at PubMed (as string)\n",
    "    :return:   the Publication object from the ncbi.nlm.nih.gov.\n",
    "               If an error occured then raise the exception.\n",
    "    \"\"\"\n",
    "    \n",
    "    assert type(id_str) == str, 'id_str is not string'\n",
    "    \n",
    "    # Retrieve a PubMed record.\n",
    "    try:\n",
    "        url = 'http://www.ncbi.nlm.nih.gov/pubmed/' + id_str\n",
    "        lookup = PubMedLookup(url, EMAIL)\n",
    "    except:\n",
    "        raise Exception(f'{id_str:8} - error in PubMedLookup: {sys.exc_info()[0]}: {sys.exc_info()[1]}')\n",
    "    \n",
    "    # Create a Publication object.\n",
    "    try:\n",
    "        # attribute 'resolve_doi=False' allows eliminate 'ConnectionResetError'\n",
    "        # that occurs in some articles\n",
    "        publ = Publication(lookup, resolve_doi=False)  \n",
    "    except:\n",
    "        raise Exception(f'{id_str} - error in Publication: {sys.exc_info()[0]}: {sys.exc_info()[1]}')\n",
    "    \n",
    "    return publ"
   ]
  },
  {
   "cell_type": "code",
   "execution_count": 162,
   "metadata": {},
   "outputs": [],
   "source": [
    "def process_id(id_str, fh_in, fh_out, fh_log = None):\n",
    "    \"\"\"\n",
    "    :param id:                     id of article at PubMed (as string)\n",
    "    :params fh_in, fh_out, fh_log: file handlers for input, output and log files\n",
    "    :return:                       None\n",
    "    \"\"\"\n",
    "    \n",
    "    # Receive Publication object from the site.\n",
    "    try:\n",
    "        obj = get_publication_object_from_id(id_str)\n",
    "    except Exception as ex:\n",
    "        print('\\n' + str(ex) + '\\n')\n",
    "        fh_log.write(str(ex) + '\\n')\n",
    "        return\n",
    "\n",
    "    # Check abstract for presence of search words.\n",
    "    abstract_lower = obj.abstract.strip().lower()\n",
    "    found_words = []\n",
    "    is_found = False\n",
    "    for word in search_words:\n",
    "        if abstract_lower.find(word) != -1:\n",
    "            is_found = True\n",
    "            if word not in found_words:\n",
    "                found_words.append(word)\n",
    "    \n",
    "    # If search words are found, write down results in the file and show message in the console.\n",
    "    if is_found:\n",
    "        abstract = re.sub(r'[\\t\\n\\r]', '  ', obj.abstract.strip())\n",
    "        if len(abstract) > CHARACTERS_IN_ABSTRACT:\n",
    "            abstract = abstract[0:CHARACTERS_IN_ABSTRACT] + '…'\n",
    "        fh_out.write(f'{id_str}\\t{obj.title}\\t{\", \".join(found_words)}\\t{abstract}' + '\\n')\n",
    "        print(f'{count:4}. {id_str:>8} - found')"
   ]
  },
  {
   "cell_type": "code",
   "execution_count": 163,
   "metadata": {},
   "outputs": [
    {
     "name": "stdout",
     "output_type": "stream",
     "text": [
      "   1. 28758339 - found\n",
      "   2. 28624737 - found\n",
      "   3. 22834969 - found\n",
      "   4.  3299702 - found\n",
      "   5. 29266515 - found\n",
      "   6. 26198148 - found\n",
      "   7. 27988482 - found\n",
      "   8. 26511272 - found\n",
      "   9. 25620575 - found\n",
      "  10. 24155214 - found\n",
      "  17. 26463762 - found\n",
      "  21. 28111190 - found\n",
      "  22. 26973114 - found\n",
      "  23. 29244847 - found\n",
      "  29. 28872043 - found\n",
      "\n",
      "28216301 - error in Publication: <class 'TypeError'>: string indices must be integers\n",
      "\n",
      "  34. 24457528 - found\n",
      "  36. 30411727 - found\n",
      "  38. 25468185 - found\n",
      "  39. 28510785 - found\n",
      "  43. 23273984 - found\n",
      "  44. 24793646 - found\n",
      "\n",
      "30707652 - error in Publication: <class 'TypeError'>: string indices must be integers\n",
      "\n",
      "  48. 28982708 - found\n",
      "  49. 29654977 - found\n",
      "\n",
      "Done (50 articles were processed)\n",
      "Time of execution: 78.0 sec\n"
     ]
    }
   ],
   "source": [
    "# Open the file with ids from PubMed, create/rewrite output- and log-files.\n",
    "fh_in = open(FILE_IN, 'r')\n",
    "fh_out = open(FILE_OUT, 'w')\n",
    "fh_log = open(FILE_LOG, 'w')\n",
    "\n",
    "# Ignore the first line in the file with ids (the line with header).\n",
    "fh_in.readline()\n",
    "\n",
    "# Write header to the output file.\n",
    "fh_out.write('Id\\tTitle\\tFound words\\tAbstract (beginning)' + '\\n')\n",
    "\n",
    "# In cycle read the file line by line.\n",
    "# For each line extract id and process the corresponding article in PubMed.\n",
    "# Results are placed in the output file and id is duplicated to the console.\n",
    "t0 = time()\n",
    "for count, line in enumerate(fh_in, 1):\n",
    "    id_str = line.strip()\n",
    "    process_id(id_str, fh_in, fh_out, fh_log)\n",
    "    if count >= LIMIT:\n",
    "        break\n",
    "\n",
    "# Close the files and report about finishing of the program.\n",
    "fh_out.close()\n",
    "fh_in.close()\n",
    "if fh_log:\n",
    "    fh_log.close()\n",
    "print(f'\\nDone ({count} articles were processed)')\n",
    "print('Time of execution: {:.1f} sec'.format(time() - t0))"
   ]
  },
  {
   "cell_type": "markdown",
   "metadata": {},
   "source": [
    "---"
   ]
  },
  {
   "cell_type": "code",
   "execution_count": 3,
   "metadata": {},
   "outputs": [
    {
     "name": "stdout",
     "output_type": "stream",
     "text": [
      "<class 'TypeError'>\n",
      "string indices must be integers\n",
      "(<class 'TypeError'>, TypeError('string indices must be integers'), <traceback object at 0x7feacc05a908>)\n",
      "\n"
     ]
    },
    {
     "ename": "NameError",
     "evalue": "name 'traceback' is not defined",
     "output_type": "error",
     "traceback": [
      "\u001b[0;31m---------------------------------------------------------------------------\u001b[0m",
      "\u001b[0;31mTypeError\u001b[0m                                 Traceback (most recent call last)",
      "\u001b[0;32m<ipython-input-3-c4906ada7da9>\u001b[0m in \u001b[0;36m<module>\u001b[0;34m\u001b[0m\n\u001b[1;32m      6\u001b[0m \u001b[0;32mtry\u001b[0m\u001b[0;34m:\u001b[0m\u001b[0;34m\u001b[0m\u001b[0;34m\u001b[0m\u001b[0m\n\u001b[0;32m----> 7\u001b[0;31m     \u001b[0mPublication\u001b[0m\u001b[0;34m(\u001b[0m\u001b[0mlookup\u001b[0m\u001b[0;34m)\u001b[0m  \u001b[0;31m# error is here    # 2nd query - error\u001b[0m\u001b[0;34m\u001b[0m\u001b[0;34m\u001b[0m\u001b[0m\n\u001b[0m\u001b[1;32m      8\u001b[0m \u001b[0;32mexcept\u001b[0m\u001b[0;34m:\u001b[0m\u001b[0;34m\u001b[0m\u001b[0;34m\u001b[0m\u001b[0m\n",
      "\u001b[0;32m~/anaconda3/lib/python3.7/site-packages/pubmed_lookup/pubmed_lookup.py\u001b[0m in \u001b[0;36m__init__\u001b[0;34m(self, pubmed_record, resolve_doi)\u001b[0m\n\u001b[1;32m     44\u001b[0m         \u001b[0mxml_dict\u001b[0m \u001b[0;34m=\u001b[0m \u001b[0mself\u001b[0m\u001b[0;34m.\u001b[0m\u001b[0mget_pubmed_xml\u001b[0m\u001b[0;34m(\u001b[0m\u001b[0;34m)\u001b[0m\u001b[0;34m\u001b[0m\u001b[0;34m\u001b[0m\u001b[0m\n\u001b[0;32m---> 45\u001b[0;31m         \u001b[0mself\u001b[0m\u001b[0;34m.\u001b[0m\u001b[0mset_abstract\u001b[0m\u001b[0;34m(\u001b[0m\u001b[0mxml_dict\u001b[0m\u001b[0;34m)\u001b[0m\u001b[0;34m\u001b[0m\u001b[0;34m\u001b[0m\u001b[0m\n\u001b[0m\u001b[1;32m     46\u001b[0m         \u001b[0mself\u001b[0m\u001b[0;34m.\u001b[0m\u001b[0mset_pub_year_month_day\u001b[0m\u001b[0;34m(\u001b[0m\u001b[0mxml_dict\u001b[0m\u001b[0;34m)\u001b[0m\u001b[0;34m\u001b[0m\u001b[0;34m\u001b[0m\u001b[0m\n",
      "\u001b[0;32m~/anaconda3/lib/python3.7/site-packages/pubmed_lookup/pubmed_lookup.py\u001b[0m in \u001b[0;36mset_abstract\u001b[0;34m(self, xml_dict)\u001b[0m\n\u001b[1;32m    172\u001b[0m         \u001b[0;32mif\u001b[0m \u001b[0mself\u001b[0m\u001b[0;34m.\u001b[0m\u001b[0mrecord\u001b[0m\u001b[0;34m.\u001b[0m\u001b[0mget\u001b[0m\u001b[0;34m(\u001b[0m\u001b[0;34m'HasAbstract'\u001b[0m\u001b[0;34m)\u001b[0m \u001b[0;34m==\u001b[0m \u001b[0;36m1\u001b[0m \u001b[0;32mand\u001b[0m \u001b[0mxml_dict\u001b[0m\u001b[0;34m:\u001b[0m\u001b[0;34m\u001b[0m\u001b[0;34m\u001b[0m\u001b[0m\n\u001b[0;32m--> 173\u001b[0;31m             \u001b[0mself\u001b[0m\u001b[0;34m.\u001b[0m\u001b[0mabstract\u001b[0m \u001b[0;34m=\u001b[0m \u001b[0mself\u001b[0m\u001b[0;34m.\u001b[0m\u001b[0mparse_abstract\u001b[0m\u001b[0;34m(\u001b[0m\u001b[0mxml_dict\u001b[0m\u001b[0;34m)\u001b[0m\u001b[0;34m\u001b[0m\u001b[0;34m\u001b[0m\u001b[0m\n\u001b[0m\u001b[1;32m    174\u001b[0m         \u001b[0;32melse\u001b[0m\u001b[0;34m:\u001b[0m\u001b[0;34m\u001b[0m\u001b[0;34m\u001b[0m\u001b[0m\n",
      "\u001b[0;32m~/anaconda3/lib/python3.7/site-packages/pubmed_lookup/pubmed_lookup.py\u001b[0m in \u001b[0;36mparse_abstract\u001b[0;34m(xml_dict)\u001b[0m\n\u001b[1;32m    132\u001b[0m                 \u001b[0;32mtry\u001b[0m\u001b[0;34m:\u001b[0m\u001b[0;34m\u001b[0m\u001b[0;34m\u001b[0m\u001b[0m\n\u001b[0;32m--> 133\u001b[0;31m                     \u001b[0mabstract_text\u001b[0m \u001b[0;34m=\u001b[0m \u001b[0mabstract_section\u001b[0m\u001b[0;34m[\u001b[0m\u001b[0;34m'#text'\u001b[0m\u001b[0;34m]\u001b[0m\u001b[0;34m\u001b[0m\u001b[0;34m\u001b[0m\u001b[0m\n\u001b[0m\u001b[1;32m    134\u001b[0m                 \u001b[0;32mexcept\u001b[0m \u001b[0mKeyError\u001b[0m\u001b[0;34m:\u001b[0m\u001b[0;34m\u001b[0m\u001b[0;34m\u001b[0m\u001b[0m\n",
      "\u001b[0;31mTypeError\u001b[0m: string indices must be integers",
      "\nDuring handling of the above exception, another exception occurred:\n",
      "\u001b[0;31mNameError\u001b[0m                                 Traceback (most recent call last)",
      "\u001b[0;32m<ipython-input-3-c4906ada7da9>\u001b[0m in \u001b[0;36m<module>\u001b[0;34m\u001b[0m\n\u001b[1;32m     11\u001b[0m     \u001b[0mprint\u001b[0m\u001b[0;34m(\u001b[0m\u001b[0msys\u001b[0m\u001b[0;34m.\u001b[0m\u001b[0mexc_info\u001b[0m\u001b[0;34m(\u001b[0m\u001b[0;34m)\u001b[0m\u001b[0;34m)\u001b[0m\u001b[0;34m\u001b[0m\u001b[0;34m\u001b[0m\u001b[0m\n\u001b[1;32m     12\u001b[0m     \u001b[0mprint\u001b[0m\u001b[0;34m(\u001b[0m\u001b[0;34m)\u001b[0m\u001b[0;34m\u001b[0m\u001b[0;34m\u001b[0m\u001b[0m\n\u001b[0;32m---> 13\u001b[0;31m     \u001b[0mprint\u001b[0m\u001b[0;34m(\u001b[0m\u001b[0mtraceback\u001b[0m\u001b[0;34m.\u001b[0m\u001b[0mprint_exc\u001b[0m\u001b[0;34m(\u001b[0m\u001b[0;34m)\u001b[0m\u001b[0;34m)\u001b[0m\u001b[0;34m\u001b[0m\u001b[0;34m\u001b[0m\u001b[0m\n\u001b[0m",
      "\u001b[0;31mNameError\u001b[0m: name 'traceback' is not defined"
     ]
    }
   ],
   "source": [
    "# # <class 'TypeError'>: 'string indices must be integers':\n",
    "\n",
    "# url = 'http://www.ncbi.nlm.nih.gov/pubmed/28216301'\n",
    "# lookup = PubMedLookup(url, '')              # 1st query - this works\n",
    "\n",
    "# try:\n",
    "#     Publication(lookup)  # error is here    # 2nd query - error\n",
    "# except:\n",
    "#     print(sys.exc_info()[0])\n",
    "#     print(sys.exc_info()[1])\n",
    "#     print(sys.exc_info())\n",
    "#     print()\n",
    "#     print(traceback.print_exc())"
   ]
  }
 ],
 "metadata": {
  "kernelspec": {
   "display_name": "Python 3",
   "language": "python",
   "name": "python3"
  },
  "language_info": {
   "codemirror_mode": {
    "name": "ipython",
    "version": 3
   },
   "file_extension": ".py",
   "mimetype": "text/x-python",
   "name": "python",
   "nbconvert_exporter": "python",
   "pygments_lexer": "ipython3",
   "version": "3.7.3"
  }
 },
 "nbformat": 4,
 "nbformat_minor": 2
}
